{
 "cells": [
  {
   "cell_type": "markdown",
   "metadata": {
    "colab_type": "text",
    "id": "U2ha9OWxf0jw"
   },
   "source": [
    "Lambda School Data Science\n",
    "\n",
    "*Unit 2, Sprint 3, Module 3*\n",
    "\n",
    "---"
   ]
  },
  {
   "cell_type": "markdown",
   "metadata": {
    "colab_type": "text",
    "id": "-hTictxWYih7"
   },
   "source": [
    "# Permutation & Boosting\n",
    "\n",
    "- Get **permutation importances** for model interpretation and feature selection\n",
    "- Use xgboost for **gradient boosting**"
   ]
  },
  {
   "cell_type": "markdown",
   "metadata": {
    "colab_type": "text",
    "id": "wMejJg0w8v76"
   },
   "source": [
    "### Setup\n",
    "\n",
    "Run the code cell below. You can work locally (follow the [local setup instructions](https://lambdaschool.github.io/ds/unit2/local/)) or on Colab.\n",
    "\n",
    "Libraries:\n",
    "\n",
    "- category_encoders\n",
    "- matplotlib\n",
    "- numpy\n",
    "- pandas\n",
    "- scikit-learn\n",
    "- [**xgboost**](https://xgboost.readthedocs.io/en/latest/)"
   ]
  },
  {
   "cell_type": "code",
   "execution_count": 1,
   "metadata": {},
   "outputs": [],
   "source": [
    "# data analysis and wrangling\n",
    "import pandas as pd\n",
    "import numpy as np\n",
    "\n",
    "# visualization\n",
    "import matplotlib.pyplot as plt\n",
    "%matplotlib inline\n",
    "\n",
    "# encoders\n",
    "from category_encoders import OneHotEncoder, OrdinalEncoder\n",
    "from sklearn.impute import SimpleImputer\n",
    "from sklearn.preprocessing import StandardScaler\n",
    "from sklearn.base import clone \n",
    "#metrics\n",
    "from sklearn.metrics import accuracy_score, precision_score, recall_score, classification_report, roc_auc_score\n",
    "\n",
    "#pipeline\n",
    "from sklearn.pipeline import make_pipeline\n",
    "\n",
    "# machine learning\n",
    "from sklearn.linear_model import LogisticRegression\n",
    "from sklearn.ensemble import RandomForestClassifier\n",
    "from sklearn.tree import DecisionTreeClassifier\n",
    "\n",
    "from IPython.display import Image\n",
    "from IPython.core.display import HTML "
   ]
  },
  {
   "cell_type": "code",
   "execution_count": 2,
   "metadata": {
    "colab": {},
    "colab_type": "code",
    "id": "BFQMky3CYih-"
   },
   "outputs": [],
   "source": [
    "DATA_PATH = '../data/'"
   ]
  },
  {
   "cell_type": "markdown",
   "metadata": {},
   "source": [
    "We'll go back to Tanzania Waterpumps for this lesson."
   ]
  },
  {
   "cell_type": "code",
   "execution_count": 3,
   "metadata": {
    "colab": {},
    "colab_type": "code",
    "id": "z-TExplb_Slf"
   },
   "outputs": [],
   "source": [
    "\n",
    "from sklearn.model_selection import train_test_split\n",
    "\n",
    "# Merge train_features.csv & train_labels.csv\n",
    "train = pd.merge(pd.read_csv(DATA_PATH+'waterpumps/train_features.csv', parse_dates=['date_recorded']), \n",
    "                 pd.read_csv(DATA_PATH+'waterpumps/train_labels.csv')).set_index('date_recorded')\n",
    "\n",
    "# Read test_features.csv & sample_submission.csv\n",
    "test = pd.read_csv(DATA_PATH+'waterpumps/test_features.csv', parse_dates=['date_recorded']).set_index('date_recorded')\n",
    "sample_submission = pd.read_csv(DATA_PATH+'waterpumps/sample_submission.csv')\n",
    "\n",
    "\n",
    "# Split train into train & val\n",
    "train, val = train_test_split(train, train_size=0.80, test_size=0.20, \n",
    "                              stratify=train['status_group'], random_state=42)\n",
    "\n",
    "\n",
    "def wrangle(X):\n",
    "    \"\"\"Wrangle train, validate, and test sets in the same way\"\"\"\n",
    "    \n",
    "    # Prevent SettingWithCopyWarning\n",
    "    X = X.copy()\n",
    "    \n",
    "    # About 3% of the time, latitude has small values near zero,\n",
    "    # outside Tanzania, so we'll treat these values like zero.\n",
    "    X['latitude'] = X['latitude'].replace(-2e-08, 0)\n",
    "    \n",
    "    # When columns have zeros and shouldn't, they are like null values.\n",
    "    # So we will replace the zeros with nulls, and impute missing values later.\n",
    "    # Also create a \"missing indicator\" column, because the fact that\n",
    "    # values are missing may be a predictive signal.\n",
    "            \n",
    "    # Drop duplicate columns\n",
    "    duplicates = ['quantity_group', 'payment_type']\n",
    "    X = X.drop(columns=duplicates)\n",
    "    \n",
    "    # Drop recorded_by (never varies) and id (always varies, random)\n",
    "    unusable_variance = ['recorded_by', 'id']\n",
    "    X = X.drop(columns=unusable_variance)\n",
    "    \n",
    "    \n",
    "    # Extract components from date_recorded, then drop the original column\n",
    "    X['year_recorded'] = X.index.year\n",
    "    X['month_recorded'] = X.index.month\n",
    "    # Engineer feature: how many years from construction_year to date_recorded\n",
    "    X['years'] = X['year_recorded'] - X['construction_year']\n",
    "    \n",
    "    # return the wrangled dataframe\n",
    "    return X\n",
    "\n",
    "train = wrangle(train)\n",
    "val = wrangle(val)\n",
    "test = wrangle(test)"
   ]
  },
  {
   "cell_type": "code",
   "execution_count": 4,
   "metadata": {
    "colab": {},
    "colab_type": "code",
    "id": "rhg8PQKt_jzP"
   },
   "outputs": [],
   "source": [
    "# Arrange data into X features matrix and y target vector\n",
    "target = 'status_group'\n",
    "X_train = train.drop(columns=target)\n",
    "y_train = train[target]\n",
    "X_val = val.drop(columns=target)\n",
    "y_val = val[target]\n",
    "X_test = test"
   ]
  },
  {
   "cell_type": "code",
   "execution_count": 5,
   "metadata": {
    "colab": {},
    "colab_type": "code",
    "id": "m8lB4z5l_eml"
   },
   "outputs": [
    {
     "data": {
      "text/plain": [
       "Pipeline(steps=[('ordinalencoder',\n",
       "                 OrdinalEncoder(cols=['funder', 'installer', 'wpt_name',\n",
       "                                      'basin', 'subvillage', 'region', 'lga',\n",
       "                                      'ward', 'public_meeting',\n",
       "                                      'scheme_management', 'scheme_name',\n",
       "                                      'permit', 'extraction_type',\n",
       "                                      'extraction_type_group',\n",
       "                                      'extraction_type_class', 'management',\n",
       "                                      'management_group', 'payment',\n",
       "                                      'water_quality', 'quality_group',\n",
       "                                      'quantity', 'source',...\n",
       "communal standpipe multiple    4\n",
       "improved spring                5\n",
       "cattle trough                  6\n",
       "dam                            7\n",
       "NaN                           -2\n",
       "dtype: int64},\n",
       "                                         {'col': 'waterpoint_type_group',\n",
       "                                          'data_type': dtype('O'),\n",
       "                                          'mapping': communal standpipe    1\n",
       "hand pump             2\n",
       "other                 3\n",
       "improved spring       4\n",
       "cattle trough         5\n",
       "dam                   6\n",
       "NaN                  -2\n",
       "dtype: int64}])),\n",
       "                ('simpleimputer', SimpleImputer(strategy='median')),\n",
       "                ('randomforestclassifier',\n",
       "                 RandomForestClassifier(n_jobs=-1, random_state=42))])"
      ]
     },
     "execution_count": 5,
     "metadata": {},
     "output_type": "execute_result"
    }
   ],
   "source": [
    "pipeline = make_pipeline(\n",
    "    OrdinalEncoder(), \n",
    "    SimpleImputer(strategy='median'), \n",
    "    RandomForestClassifier(n_estimators=100, random_state=42, n_jobs=-1)\n",
    ")\n",
    "\n",
    "# Fit on train, score on val\n",
    "pipeline.fit(X_train, y_train)"
   ]
  },
  {
   "cell_type": "code",
   "execution_count": 6,
   "metadata": {},
   "outputs": [
    {
     "name": "stdout",
     "output_type": "stream",
     "text": [
      "Validation Accuracy 0.8107744107744108\n"
     ]
    }
   ],
   "source": [
    "print('Validation Accuracy', pipeline.score(X_val, y_val))"
   ]
  },
  {
   "cell_type": "markdown",
   "metadata": {},
   "source": [
    "## Get **permutation importances** for model interpretation and feature selection\n",
    "### I Gini impurity"
   ]
  },
  {
   "cell_type": "code",
   "execution_count": 7,
   "metadata": {},
   "outputs": [],
   "source": [
    "gini_importance = pipeline.named_steps['randomforestclassifier'].feature_importances_"
   ]
  },
  {
   "cell_type": "code",
   "execution_count": 8,
   "metadata": {},
   "outputs": [
    {
     "data": {
      "text/plain": [
       "array([0.02359769, 0.0318741 , 0.04492404, 0.02601559, 0.08439744,\n",
       "       0.08405583, 0.06034385, 0.00096599, 0.01396505, 0.05693386,\n",
       "       0.01435839, 0.01355506, 0.01639368, 0.02286126, 0.03956963,\n",
       "       0.032345  , 0.0078764 , 0.01248804, 0.02435806, 0.00703394,\n",
       "       0.03186388, 0.0193069 , 0.01648908, 0.0259426 , 0.01125796,\n",
       "       0.0052247 , 0.02137972, 0.0077553 , 0.00822914, 0.09003699,\n",
       "       0.01370988, 0.01280519, 0.00454068, 0.03669164, 0.0229582 ,\n",
       "       0.00479539, 0.01557274, 0.03352712])"
      ]
     },
     "execution_count": 8,
     "metadata": {},
     "output_type": "execute_result"
    }
   ],
   "source": [
    "gini_importance"
   ]
  },
  {
   "cell_type": "code",
   "execution_count": 9,
   "metadata": {},
   "outputs": [],
   "source": [
    "column_name = X_train.columns"
   ]
  },
  {
   "cell_type": "code",
   "execution_count": 10,
   "metadata": {},
   "outputs": [
    {
     "data": {
      "text/plain": [
       "Text(0, 0.5, 'feature name')"
      ]
     },
     "execution_count": 10,
     "metadata": {},
     "output_type": "execute_result"
    },
    {
     "data": {
      "image/png": "[encoded data removed]",
      "text/plain": [
       "<Figure size 432x288 with 1 Axes>"
      ]
     },
     "metadata": {
      "needs_background": "light"
     },
     "output_type": "display_data"
    }
   ],
   "source": [
    "pd.Series(gini_importance, index=column_name).sort_values().tail(10).plot(kind='barh')\n",
    "plt.xlabel('gini importance')\n",
    "plt.ylabel('feature name')"
   ]
  },
  {
   "cell_type": "markdown",
   "metadata": {},
   "source": [
    "### II drop column importances"
   ]
  },
  {
   "cell_type": "code",
   "execution_count": 11,
   "metadata": {},
   "outputs": [],
   "source": [
    "accuracy_before = pipeline.score(X_val, y_val)"
   ]
  },
  {
   "cell_type": "code",
   "execution_count": 12,
   "metadata": {},
   "outputs": [
    {
     "name": "stdout",
     "output_type": "stream",
     "text": [
      "amount_tsh\n",
      "funder\n",
      "gps_height\n",
      "installer\n",
      "longitude\n",
      "latitude\n",
      "wpt_name\n",
      "num_private\n",
      "basin\n",
      "subvillage\n",
      "region\n",
      "region_code\n",
      "district_code\n",
      "lga\n",
      "ward\n",
      "population\n",
      "public_meeting\n",
      "scheme_management\n",
      "scheme_name\n",
      "permit\n",
      "construction_year\n",
      "extraction_type\n",
      "extraction_type_group\n",
      "extraction_type_class\n",
      "management\n",
      "management_group\n",
      "payment\n",
      "water_quality\n",
      "quality_group\n",
      "quantity\n",
      "source\n",
      "source_type\n",
      "source_class\n",
      "waterpoint_type\n",
      "waterpoint_type_group\n",
      "year_recorded\n",
      "month_recorded\n",
      "years\n"
     ]
    }
   ],
   "source": [
    "cols_drop = X_val.columns\n",
    "acc_diff = []\n",
    "for col in cols_drop:\n",
    "\n",
    "    X_train_drop = X_train.drop(columns=col)\n",
    "\n",
    "    pipeline_drop = make_pipeline(\n",
    "        OrdinalEncoder(), \n",
    "        SimpleImputer(strategy='median'), \n",
    "        RandomForestClassifier(n_estimators=100, random_state=42, n_jobs=-1)\n",
    "    )\n",
    "\n",
    "    pipeline_drop.fit(X_train_drop, y_train)\n",
    "    X_val_drop = X_val.drop(columns=col)\n",
    "    accuracy_after = pipeline_drop.score(X_val_drop, y_val)\n",
    "    print(col)\n",
    "    accuracy_diff = accuracy_before - accuracy_after\n",
    "    acc_diff.append(accuracy_diff)"
   ]
  },
  {
   "cell_type": "code",
   "execution_count": 13,
   "metadata": {},
   "outputs": [
    {
     "data": {
      "text/plain": [
       "Text(0, 0.5, 'feature name')"
      ]
     },
     "execution_count": 13,
     "metadata": {},
     "output_type": "execute_result"
    },
    {
     "data": {
      "image/png": "[encoded data removed]",
      "text/plain": [
       "<Figure size 432x288 with 1 Axes>"
      ]
     },
     "metadata": {
      "needs_background": "light"
     },
     "output_type": "display_data"
    }
   ],
   "source": [
    "pd.Series(acc_diff, index=cols_drop).sort_values().tail(10).plot(kind='barh')\n",
    "plt.xlabel('drop column importance')\n",
    "plt.ylabel('feature name')"
   ]
  },
  {
   "cell_type": "markdown",
   "metadata": {},
   "source": [
    "### III Permutation Importance"
   ]
  },
  {
   "cell_type": "code",
   "execution_count": 41,
   "metadata": {},
   "outputs": [
    {
     "data": {
      "text/html": [
       "<img src=\"https://i.imgur.com/h17tMUU.png\"/>"
      ],
      "text/plain": [
       "<IPython.core.display.Image object>"
      ]
     },
     "execution_count": 41,
     "metadata": {},
     "output_type": "execute_result"
    }
   ],
   "source": [
    "Image(url= \"https://i.imgur.com/h17tMUU.png\")"
   ]
  },
  {
   "cell_type": "code",
   "execution_count": 14,
   "metadata": {},
   "outputs": [],
   "source": [
    "from sklearn.inspection import permutation_importance\n",
    "per_imp = permutation_importance(pipeline, \n",
    "                                 X_val, \n",
    "                                 y_val,\n",
    "                                 n_repeats=5, \n",
    "                                 n_jobs=-1, \n",
    "                                 random_state=42 )"
   ]
  },
  {
   "cell_type": "code",
   "execution_count": 15,
   "metadata": {},
   "outputs": [
    {
     "data": {
      "text/plain": [
       "Text(0, 0.5, 'feature name')"
      ]
     },
     "execution_count": 15,
     "metadata": {},
     "output_type": "execute_result"
    },
    {
     "data": {
      "image/png": "[encoded data removed]",
      "text/plain": [
       "<Figure size 432x288 with 1 Axes>"
      ]
     },
     "metadata": {
      "needs_background": "light"
     },
     "output_type": "display_data"
    }
   ],
   "source": [
    "pd.Series(per_imp['importances_mean'], index=cols_drop).sort_values().tail(10).plot(kind='barh')\n",
    "plt.xlabel('premutation importance')\n",
    "plt.ylabel('feature name')"
   ]
  },
  {
   "cell_type": "markdown",
   "metadata": {},
   "source": [
    "#### Use the top five features to train the model"
   ]
  },
  {
   "cell_type": "code",
   "execution_count": 16,
   "metadata": {},
   "outputs": [],
   "source": [
    "X_train_top_5 = X_train[pd.Series(per_imp['importances_mean'], index=cols_drop).sort_values().tail(5).index]\n",
    "X_val_top_5 =  X_val[pd.Series(per_imp['importances_mean'], index=cols_drop).sort_values().tail(5).index]"
   ]
  },
  {
   "cell_type": "code",
   "execution_count": 17,
   "metadata": {},
   "outputs": [
    {
     "name": "stdout",
     "output_type": "stream",
     "text": [
      "Validation Accuracy 0.7154882154882155\n"
     ]
    }
   ],
   "source": [
    "pipeline_top_5 = make_pipeline(\n",
    "    OrdinalEncoder(), \n",
    "    SimpleImputer(strategy='median'), \n",
    "    RandomForestClassifier(n_estimators=100, random_state=42, n_jobs=-1)\n",
    ")\n",
    "\n",
    "pipeline_top_5.fit(X_train_top_5, y_train)\n",
    "print('Validation Accuracy', pipeline_top_5.score(X_val_top_5, y_val))"
   ]
  },
  {
   "cell_type": "markdown",
   "metadata": {},
   "source": [
    "##  Use xgboost for **gradient boosting**"
   ]
  },
  {
   "cell_type": "code",
   "execution_count": 39,
   "metadata": {},
   "outputs": [
    {
     "data": {
      "text/html": [
       "<img src=\"https://media.geeksforgeeks.org/wp-content/uploads/20200721214745/gradientboosting.PNG\"/>"
      ],
      "text/plain": [
       "<IPython.core.display.Image object>"
      ]
     },
     "execution_count": 39,
     "metadata": {},
     "output_type": "execute_result"
    }
   ],
   "source": [
    "Image(url= \"https://media.geeksforgeeks.org/wp-content/uploads/20200721214745/gradientboosting.PNG\")\n",
    "## The below diagram explains how gradient boosted trees are trained for regression problems."
   ]
  },
  {
   "cell_type": "code",
   "execution_count": 33,
   "metadata": {},
   "outputs": [],
   "source": [
    "# xgboost\n",
    "# 1. add more regularization terms\n",
    "# 2. compute faster\n",
    "# 3. deal with missing values\n",
    "from xgboost import XGBClassifier\n",
    "model_xgb = make_pipeline(OrdinalEncoder(),\n",
    "                         XGBClassifier(n_estimators=100,\n",
    "                                      max_depth=10,\n",
    "                                      learning_rate=1e-3,\n",
    "                                      n_jobs=10))"
   ]
  },
  {
   "cell_type": "code",
   "execution_count": 34,
   "metadata": {},
   "outputs": [
    {
     "name": "stderr",
     "output_type": "stream",
     "text": [
      "/Users/sisichen/.local/share/virtualenvs/Unit2-sprint3-ds25-B8QTsEAs/lib/python3.8/site-packages/xgboost/sklearn.py:888: UserWarning: The use of label encoder in XGBClassifier is deprecated and will be removed in a future release. To remove this warning, do the following: 1) Pass option use_label_encoder=False when constructing XGBClassifier object; and 2) Encode your labels (y) as integers starting with 0, i.e. 0, 1, 2, ..., [num_class - 1].\n",
      "  warnings.warn(label_encoder_deprecation_msg, UserWarning)\n"
     ]
    },
    {
     "name": "stdout",
     "output_type": "stream",
     "text": [
      "[12:14:37] WARNING: /Users/travis/build/dmlc/xgboost/src/learner.cc:1061: Starting in XGBoost 1.3.0, the default evaluation metric used with the objective 'multi:softprob' was changed from 'merror' to 'mlogloss'. Explicitly set eval_metric if you'd like to restore the old behavior.\n"
     ]
    },
    {
     "data": {
      "text/plain": [
       "Pipeline(steps=[('ordinalencoder',\n",
       "                 OrdinalEncoder(cols=['funder', 'installer', 'wpt_name',\n",
       "                                      'basin', 'subvillage', 'region', 'lga',\n",
       "                                      'ward', 'public_meeting',\n",
       "                                      'scheme_management', 'scheme_name',\n",
       "                                      'permit', 'extraction_type',\n",
       "                                      'extraction_type_group',\n",
       "                                      'extraction_type_class', 'management',\n",
       "                                      'management_group', 'payment',\n",
       "                                      'water_quality', 'quality_group',\n",
       "                                      'quantity', 'source',...\n",
       "                               importance_type='gain',\n",
       "                               interaction_constraints='', learning_rate=0.001,\n",
       "                               max_delta_step=0, max_depth=10,\n",
       "                               min_child_weight=1, missing=nan,\n",
       "                               monotone_constraints='()', n_estimators=100,\n",
       "                               n_jobs=10, num_parallel_tree=1,\n",
       "                               objective='multi:softprob', random_state=0,\n",
       "                               reg_alpha=0, reg_lambda=1, scale_pos_weight=None,\n",
       "                               subsample=1, tree_method='exact',\n",
       "                               validate_parameters=1, verbosity=None))])"
      ]
     },
     "execution_count": 34,
     "metadata": {},
     "output_type": "execute_result"
    }
   ],
   "source": [
    "model_xgb.fit(X_train, y_train)"
   ]
  },
  {
   "cell_type": "code",
   "execution_count": 35,
   "metadata": {},
   "outputs": [
    {
     "name": "stdout",
     "output_type": "stream",
     "text": [
      "Validation Accuracy 0.8035353535353535\n",
      "Validation Accuracy 0.7721380471380471\n"
     ]
    }
   ],
   "source": [
    "print('Validation Accuracy',model_xgb.score(X_train, y_train))\n",
    "print('Validation Accuracy',model_xgb.score(X_val, y_val))"
   ]
  }
 ],
 "metadata": {
  "kernelspec": {
   "display_name": "Python 3",
   "language": "python",
   "name": "python3"
  },
  "language_info": {
   "codemirror_mode": {
    "name": "ipython",
    "version": 3
   },
   "file_extension": ".py",
   "mimetype": "text/x-python",
   "name": "python",
   "nbconvert_exporter": "python",
   "pygments_lexer": "ipython3",
   "version": "3.8.2"
  }
 },
 "nbformat": 4,
 "nbformat_minor": 1
}
